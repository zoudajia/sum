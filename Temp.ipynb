{
 "metadata": {
  "language_info": {
   "codemirror_mode": {
    "name": "ipython",
    "version": 3
   },
   "file_extension": ".py",
   "mimetype": "text/x-python",
   "name": "python",
   "nbconvert_exporter": "python",
   "pygments_lexer": "ipython3",
   "version": "3.8.6"
  },
  "orig_nbformat": 2,
  "kernelspec": {
   "name": "python386jvsc74a57bd0a3e3efe35da2dfa8295936c41e5932bf7ec7ae7b726669784a6cbc18405f7314",
   "display_name": "Python 3.8.6 64-bit ('py38': conda)"
  }
 },
 "nbformat": 4,
 "nbformat_minor": 2,
 "cells": [
  {
   "cell_type": "code",
   "execution_count": 1,
   "metadata": {},
   "outputs": [],
   "source": [
    "import read_write as rw\n",
    "\n",
    "path = \"/data/zdj/auto/funcom/\"\n",
    "\n",
    "coms_ = rw.load_json(path + \"com_no_auto.json\")\n",
    "\n",
    "with open(path + \"coms\", 'w+') as f:\n",
    "    for k,v in coms_.items():\n",
    "        f.write(v.strip() + \"\\n\")"
   ]
  },
  {
   "cell_type": "code",
   "execution_count": 11,
   "metadata": {},
   "outputs": [],
   "source": [
    "import read_write as rw\n",
    "\n",
    "path = \"/data/zdj/auto/codesearchnet/\"\n",
    "coms_ = rw.read_file(path + \"sp_coms\")\n",
    "with open(path + \"lw_coms\", 'w+') as f:\n",
    "    for i in coms_:\n",
    "        f.write(i.lower())"
   ]
  },
  {
   "cell_type": "code",
   "execution_count": 12,
   "metadata": {},
   "outputs": [],
   "source": [
    "funs = rw.read_file(path + \"sp_funs\")\n",
    "with open(path + \"lw_funs\", 'w+') as f:\n",
    "    for i in funs:\n",
    "        f.write(i.lower())"
   ]
  },
  {
   "cell_type": "code",
   "execution_count": 3,
   "metadata": {},
   "outputs": [],
   "source": [
    "import read_write as rw\n",
    "from sklearn.model_selection import train_test_split \n",
    "\n",
    "path = \"/data/zdj/auto/codesearchnet/\"\n",
    "coms = rw.read_file(path + \"lw_coms\")\n",
    "funs = rw.read_file(path + \"lw_funs\")\n",
    "asts = rw.read_file(path + \"asts\")\n",
    "#sbts = rw.read_file(path + \"sbt\")\n",
    "\n",
    "index = range(len(coms))\n",
    "\n",
    "train, tmp = train_test_split(index, test_size=0.2, random_state=42)  \n",
    "test, valid = train_test_split(tmp, test_size=0.5, random_state=42)"
   ]
  },
  {
   "cell_type": "code",
   "execution_count": 5,
   "metadata": {},
   "outputs": [],
   "source": [
    "with open(path + \"train.tgt\", 'w+') as f:\n",
    "    for i in train:\n",
    "        f.writelines(coms[i])"
   ]
  },
  {
   "cell_type": "code",
   "execution_count": 6,
   "metadata": {},
   "outputs": [],
   "source": [
    "with open(path + \"train.src\", 'w+') as f:\n",
    "    for i in train:\n",
    "        f.writelines(funs[i])"
   ]
  },
  {
   "cell_type": "code",
   "execution_count": 7,
   "metadata": {},
   "outputs": [],
   "source": [
    "with open(path + \"test.tgt\", 'w+') as f:\n",
    "    for i in test:\n",
    "        f.writelines(coms[i])"
   ]
  },
  {
   "cell_type": "code",
   "execution_count": 8,
   "metadata": {},
   "outputs": [],
   "source": [
    "with open(path + \"valid.tgt\", 'w+') as f:\n",
    "    for i in valid:\n",
    "        f.writelines(coms[i])"
   ]
  },
  {
   "cell_type": "code",
   "execution_count": 9,
   "metadata": {},
   "outputs": [],
   "source": [
    "with open(path + \"test.src\", 'w+') as f:\n",
    "    for i in test:\n",
    "        f.writelines(funs[i])\n",
    "with open(path + \"valid.src\", 'w+') as f:\n",
    "    for i in valid:\n",
    "        f.writelines(funs[i])        "
   ]
  },
  {
   "cell_type": "code",
   "execution_count": 10,
   "metadata": {},
   "outputs": [],
   "source": [
    "def write(path, data, suffix):\n",
    "    with open(path + \"train\" + suffix, 'w+') as f:\n",
    "        for i in train:\n",
    "            f.writelines(data[i])\n",
    "    with open(path + \"test\" + suffix, 'w+') as f:\n",
    "        for i in test:\n",
    "            f.writelines(data[i])\n",
    "    with open(path + \"valid\" + suffix, 'w+') as f:\n",
    "        for i in valid:\n",
    "            f.writelines(data[i])\n",
    "    return\n",
    "write(path, asts, \".asts\")\n",
    "write(path, sbts, \".sbts\")"
   ]
  },
  {
   "cell_type": "code",
   "execution_count": null,
   "metadata": {},
   "outputs": [],
   "source": []
  }
 ]
}