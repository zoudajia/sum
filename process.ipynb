{
 "metadata": {
  "language_info": {
   "codemirror_mode": {
    "name": "ipython",
    "version": 3
   },
   "file_extension": ".py",
   "mimetype": "text/x-python",
   "name": "python",
   "nbconvert_exporter": "python",
   "pygments_lexer": "ipython3",
   "version": "3.8.6"
  },
  "orig_nbformat": 2,
  "kernelspec": {
   "name": "python386jvsc74a57bd0a3e3efe35da2dfa8295936c41e5932bf7ec7ae7b726669784a6cbc18405f7314",
   "display_name": "Python 3.8.6 64-bit ('py38': conda)"
  }
 },
 "nbformat": 4,
 "nbformat_minor": 2,
 "cells": [
  {
   "cell_type": "code",
   "execution_count": 1,
   "metadata": {},
   "outputs": [],
   "source": [
    "import clean_coms\n",
    "import re\n",
    "import read_write as rw\n",
    "import split_strings as ss"
   ]
  },
  {
   "cell_type": "code",
   "execution_count": 2,
   "metadata": {},
   "outputs": [],
   "source": [
    "path = \"/data/zdj/auto/funcom/\"\n",
    "tp = \"test\""
   ]
  },
  {
   "cell_type": "code",
   "execution_count": 3,
   "metadata": {},
   "outputs": [],
   "source": [
    "# clean\n",
    "coms = rw.read_file(path + tp + \".tgt\")\n",
    "funs = rw.read_file(path + tp + \".src\")\n",
    "assert len(coms) == len(funs)"
   ]
  },
  {
   "cell_type": "code",
   "execution_count": 4,
   "metadata": {},
   "outputs": [
    {
     "output_type": "execute_result",
     "data": {
      "text/plain": [
       "'\\nindex_en = ss.filter_en(funs, coms)\\nindex_ast = ss.filter_ast(funs)\\nindex = list(set(index_en) | set(index_ast))\\n'"
      ]
     },
     "metadata": {},
     "execution_count": 4
    }
   ],
   "source": [
    "'''\n",
    "index_en = ss.filter_en(funs, coms)\n",
    "index_ast = ss.filter_ast(funs)\n",
    "index = list(set(index_en) | set(index_ast))\n",
    "'''"
   ]
  },
  {
   "cell_type": "code",
   "execution_count": 5,
   "metadata": {},
   "outputs": [],
   "source": [
    "cl_funs = []\n",
    "for i,v in enumerate(funs):\n",
    "    v = rw.filter_code(v.strip())\n",
    "    v = re.sub(r'\\n|\\t|\\r', ' ', v)\n",
    "    v = re.sub(r'\\s+', ' ', v)\n",
    "    cl_funs.append(v.strip() + \"\\n\")"
   ]
  },
  {
   "cell_type": "code",
   "execution_count": 6,
   "metadata": {},
   "outputs": [],
   "source": [
    "cl_coms = []\n",
    "for i,v in enumerate(coms):\n",
    "    v = clean_coms.filter_coms(v.strip()) \n",
    "    v = re.sub(r'\\n|\\t|\\r', ' ', v)\n",
    "    v = re.sub(r'\\s+', ' ', v)\n",
    "    cl_coms.append(v.strip() + \"\\n\")"
   ]
  },
  {
   "cell_type": "code",
   "execution_count": 7,
   "metadata": {},
   "outputs": [
    {
     "output_type": "execute_result",
     "data": {
      "text/plain": [
       "(116333, 116333, 116333, 116333)"
      ]
     },
     "metadata": {},
     "execution_count": 7
    }
   ],
   "source": [
    "len(cl_funs), len(cl_coms), len(coms), len(funs)"
   ]
  },
  {
   "cell_type": "code",
   "execution_count": 8,
   "metadata": {},
   "outputs": [
    {
     "output_type": "execute_result",
     "data": {
      "text/plain": [
       "27"
      ]
     },
     "metadata": {},
     "execution_count": 8
    }
   ],
   "source": [
    "index = set()\n",
    "pattern = re.compile(u'[^\\u0000-\\u007E]+', re.UNICODE)\n",
    "# 代码\n",
    "for i,v in enumerate(cl_funs):\n",
    "    if re.search(pattern, v) or v == '\\n':\n",
    "        index.add(i)\n",
    "\n",
    "# 注释\n",
    "for i,v in enumerate(cl_coms):\n",
    "    if re.search(pattern, v) or v == '\\n':\n",
    "        index.add(i)\n",
    "len(index)"
   ]
  },
  {
   "cell_type": "code",
   "execution_count": 9,
   "metadata": {},
   "outputs": [
    {
     "output_type": "execute_result",
     "data": {
      "text/plain": [
       "(116306, 116306, 27)"
      ]
     },
     "metadata": {},
     "execution_count": 9
    }
   ],
   "source": [
    "index_ = list(index)\n",
    "index_.sort(reverse=True)\n",
    "for i in index_:\n",
    "    cl_coms.pop(i)\n",
    "    cl_funs.pop(i)\n",
    "len(cl_coms), len(cl_funs), len(index_)"
   ]
  },
  {
   "cell_type": "code",
   "execution_count": 10,
   "metadata": {},
   "outputs": [],
   "source": [
    "assert (len(index_) + len(cl_coms)) == len(coms)\n",
    "assert len(cl_funs) == len(cl_coms)"
   ]
  },
  {
   "cell_type": "code",
   "execution_count": 11,
   "metadata": {},
   "outputs": [
    {
     "output_type": "execute_result",
     "data": {
      "text/plain": [
       "'\\nrw.write_file(path + \"cl_coms\", cl_coms)\\nrw.write_file(path + \"cl_funs\", cl_funs)\\n'"
      ]
     },
     "metadata": {},
     "execution_count": 11
    }
   ],
   "source": [
    "'''\n",
    "rw.write_file(path + \"cl_coms\", cl_coms)\n",
    "rw.write_file(path + \"cl_funs\", cl_funs)\n",
    "'''"
   ]
  },
  {
   "cell_type": "code",
   "execution_count": 12,
   "metadata": {},
   "outputs": [],
   "source": [
    "asts = rw.read_file(path + tp + '.asts')\n",
    "with open(path + tp + \".asts.lower\", 'w+') as f:\n",
    "    for i,v in enumerate(asts):\n",
    "        if i not in index:\n",
    "            f.write(v)"
   ]
  },
  {
   "cell_type": "code",
   "execution_count": 13,
   "metadata": {},
   "outputs": [],
   "source": [
    "sbts = rw.read_file(path + tp + '.sbts')\n",
    "with open(path + tp + \".sbts.lower\", 'w+') as f:\n",
    "    for i,v in enumerate(sbts):\n",
    "        if i not in index:\n",
    "            f.write(v)"
   ]
  },
  {
   "cell_type": "code",
   "execution_count": 14,
   "metadata": {},
   "outputs": [],
   "source": [
    "# split + lower\n",
    "\n",
    "sp_funs = []\n",
    "sp_coms = []\n",
    "\n",
    "for i in cl_funs:\n",
    "    sp_funs.append(ss.split_strings(i.strip()))\n",
    "#rw.write_file(path + \"sp_funs\", sp_funs)\n",
    "\n",
    "for i in cl_coms:\n",
    "    sp_coms.append(ss.split_strings(i.strip()))\n",
    "#rw.write_file(path + \"sp_coms\", sp_coms)\n",
    "\n",
    "lw_funs = []\n",
    "lw_coms = []\n",
    "for i in cl_funs:\n",
    "    lw_funs.append(i.lower())\n",
    "rw.write_file(path + tp + \".src.lower\", lw_funs)\n",
    "\n",
    "for i in cl_coms:\n",
    "    lw_coms.append(i.lower())\n",
    "rw.write_file(path + tp + \".tgt.lower\", lw_coms)"
   ]
  },
  {
   "cell_type": "code",
   "execution_count": 15,
   "metadata": {},
   "outputs": [
    {
     "output_type": "execute_result",
     "data": {
      "text/plain": [
       "'\\nimport get_ast\\nimport read_write as rw\\nimport json\\n\\npath = \"/data/zdj/auto/codesearchnet/\"\\nfuns = rw.read_file(path + \"cl_funs\")\\nasts = []\\nfor i in funs:\\n    tmp = get_ast.get_ast(i)\\n    asts.append(json.dumps(tmp) + \"\\n\")\\n\\nrw.write_file(path + \"cl_asts\", asts)\\n'"
      ]
     },
     "metadata": {},
     "execution_count": 15
    }
   ],
   "source": [
    "'''\n",
    "import get_ast\n",
    "import read_write as rw\n",
    "import json\n",
    "\n",
    "path = \"/data/zdj/auto/codesearchnet/\"\n",
    "funs = rw.read_file(path + \"cl_funs\")\n",
    "asts = []\n",
    "for i in funs:\n",
    "    tmp = get_ast.get_ast(i)\n",
    "    asts.append(json.dumps(tmp) + \"\\n\")\n",
    "\n",
    "rw.write_file(path + \"cl_asts\", asts)\n",
    "'''"
   ]
  }
 ]
}